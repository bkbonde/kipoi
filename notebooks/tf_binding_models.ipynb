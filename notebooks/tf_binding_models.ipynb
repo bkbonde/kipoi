{
 "cells": [
  {
   "cell_type": "markdown",
   "metadata": {},
   "source": [
    "# Model benchmarking with Kipoi\n",
    "\n",
    "This tutorial will show to to easily benchmark tf-binding models in Kipoi. By providing a unified access to models, it takes the same effort to run a simple PWM scanning model then to run a more complicated model (DeepBind in this example)."
   ]
  },
  {
   "cell_type": "markdown",
   "metadata": {},
   "source": [
    "## Load software tools\n",
    "Let's start by loading software for this tutorial: the kipoi model zoo, "
   ]
  },
  {
   "cell_type": "code",
   "execution_count": 4,
   "metadata": {},
   "outputs": [],
   "source": [
    "import kipoi\n",
    "import numpy as np\n",
    "from sklearn.metrics import roc_auc_score"
   ]
  },
  {
   "cell_type": "markdown",
   "metadata": {},
   "source": [
    "## Prepare data files\n",
    "Next, we introduce a labeled BED-format interval file and a genome fasta file"
   ]
  },
  {
   "cell_type": "code",
   "execution_count": 5,
   "metadata": {},
   "outputs": [],
   "source": [
    "intervals_file = 'example_data/chr22.101bp.2000_intervals.JUND.HepG2.tsv'\n",
    "fasta_file  = 'example_data/hg19_chr22.fa'\n",
    "dl_kwargs = {'intervals_file': intervals_file, 'fasta_file': fasta_file}"
   ]
  },
  {
   "cell_type": "markdown",
   "metadata": {},
   "source": [
    "Let's look at the first few lines in the intervals file"
   ]
  },
  {
   "cell_type": "code",
   "execution_count": 6,
   "metadata": {},
   "outputs": [
    {
     "output_type": "stream",
     "name": "stdout",
     "text": [
      "chr22\t20208963\t20209064\t0\nchr22\t29673572\t29673673\t0\nchr22\t28193720\t28193821\t0\nchr22\t43864274\t43864375\t0\nchr22\t18261550\t18261651\t0\nchr22\t7869409\t7869510\t0\nchr22\t49798024\t49798125\t0\nchr22\t43088594\t43088695\t0\nchr22\t35147671\t35147772\t0\nchr22\t49486843\t49486944\t0\n"
     ]
    }
   ],
   "source": [
    "!head $intervals_file"
   ]
  },
  {
   "cell_type": "markdown",
   "metadata": {},
   "source": [
    "The four columns in this file contain chromosomes, interval start coordinate, interval end coordinate, and the label. This file contains 2000 examples, 1000 positives and 1000 negatives.\n",
    "\n",
    "Let's load the labels from the last column: "
   ]
  },
  {
   "cell_type": "code",
   "execution_count": 7,
   "metadata": {},
   "outputs": [],
   "source": [
    "labels = np.loadtxt(intervals_file, usecols=(3,))"
   ]
  },
  {
   "cell_type": "markdown",
   "metadata": {},
   "source": [
    "Next, to evaluate the DeepBind model for JUND, we will 1) install software requirements to run the model, 2) load the model, and 3) get model predictions using our intervals and fasta file.\n",
    "\n",
    "## Install DeepBind model software requirements"
   ]
  },
  {
   "source": [
    "kipoi env create DeepBind --source=kipoi\n",
    "\n",
    "source activate kipoi-DeepBind"
   ],
   "cell_type": "markdown",
   "metadata": {}
  },
  {
   "source": [
    "## Load DeepBind model\n",
    "deepbind_model_name = \"DeepBind/Homo_sapiens/TF/D00328.018_ChIP-seq_CTCF\"\n",
    "deepbind_model = kipoi.get_model(deepbind_model_name)"
   ],
   "cell_type": "code",
   "metadata": {},
   "execution_count": 10,
   "outputs": [
    {
     "output_type": "stream",
     "name": "stdout",
     "text": [
      "Using downloaded and verified file: /Users/b260/.kipoi/models/DeepBind/downloaded/model_files/Homo_sapiens/TF/D00328.018_ChIP-seq_CTCF/arch/0d6747991a525b94a1ac9174459c2bf4\nUsing downloaded and verified file: /Users/b260/.kipoi/models/DeepBind/downloaded/model_files/Homo_sapiens/TF/D00328.018_ChIP-seq_CTCF/weights/838eb7287139a2542f21984e692a9be2\n"
     ]
    }
   ]
  },
  {
   "cell_type": "markdown",
   "metadata": {},
   "source": [
    "## Get DeepBind predictions"
   ]
  },
  {
   "cell_type": "code",
   "execution_count": 11,
   "metadata": {},
   "outputs": [
    {
     "output_type": "stream",
     "name": "stderr",
     "text": [
      "2it [00:02,  1.16s/it]\n"
     ]
    }
   ],
   "source": [
    "deepbind_predictions = deepbind_model.pipeline.predict(dl_kwargs, batch_size=1000)"
   ]
  },
  {
   "cell_type": "markdown",
   "metadata": {},
   "source": [
    "## Evaluate DeepBind predictions\n",
    "Let's check the auROC of deepbind predictions:"
   ]
  },
  {
   "cell_type": "code",
   "execution_count": 15,
   "metadata": {},
   "outputs": [
    {
     "output_type": "execute_result",
     "data": {
      "text/plain": [
       "0.614856"
      ]
     },
     "metadata": {},
     "execution_count": 15
    }
   ],
   "source": [
    "roc_auc_score(labels, deepbind_predictions)"
   ]
  },
  {
   "source": [
    "kipoi env create pwm_HOCOMOCO\n",
    "source activate kipoi-pwm_HOCOMOCO"
   ],
   "cell_type": "markdown",
   "metadata": {}
  },
  {
   "cell_type": "code",
   "execution_count": 14,
   "metadata": {},
   "outputs": [
    {
     "output_type": "stream",
     "name": "stderr",
     "text": [
      "0.00B [00:00, ?B/s]Downloading https://zenodo.org/record/1466139/files/human-JUND.h5?download=1 to /Users/b260/.kipoi/models/pwm_HOCOMOCO/downloaded/model_files/human/JUND/weights/bb64a335f37cff4537b1bde4c11cab8b\n",
      "16.4kB [00:01, 16.0kB/s]                            \n",
      "2it [00:01,  1.51it/s]PWM auROC:\n",
      "\n"
     ]
    },
    {
     "output_type": "execute_result",
     "data": {
      "text/plain": [
       "0.6431155"
      ]
     },
     "metadata": {},
     "execution_count": 14
    }
   ],
   "source": [
    "pwm_model_name = \"pwm_HOCOMOCO/human/JUND\"\n",
    "pwm_model = kipoi.get_model(pwm_model_name)\n",
    "pwm_predictions = pwm_model.pipeline.predict(dl_kwargs, batch_size=1000)\n",
    "print(\"PWM auROC:\")\n",
    "roc_auc_score(labels, pwm_predictions)"
   ]
  },
  {
   "cell_type": "markdown",
   "metadata": {},
   "source": [
    "In this example, HOCOMOCO PWM's auROC of 64.3% outperforms the DeepBind auROC of 61.5%"
   ]
  }
 ],
 "metadata": {
  "kernelspec": {
   "display_name": "Python 3",
   "language": "python",
   "name": "python3"
  },
  "language_info": {
   "codemirror_mode": {
    "name": "ipython",
    "version": 3
   },
   "file_extension": ".py",
   "mimetype": "text/x-python",
   "name": "python",
   "nbconvert_exporter": "python",
   "pygments_lexer": "ipython3",
   "version": "3.6.13-final"
  }
 },
 "nbformat": 4,
 "nbformat_minor": 2
}