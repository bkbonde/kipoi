{
 "cells": [
  {
   "source": [
    "# Variant effect prediction\n",
    "Variant effect prediction offers a simple way to predict effects of SNVs using any model that uses DNA sequence as an input. Many different scoring methods can be chosen, but the principle relies on in-silico mutagenesis. The default input is a VCF and the default output again is a VCF annotated with predictions of variant effects. \n",
    "\n",
    "For details please take a look at the documentation in Postprocessing/Variant effect prediction. This iPython notebook goes through the basic programmatic steps that are needed to preform variant effect prediction. First a variant-centered approach will be taken and secondly overlap-based variant effect prediction will be presented. For details in how this is done programmatically, please refer to the documentation."
   ],
   "cell_type": "markdown",
   "metadata": {}
  },
  {
   "cell_type": "markdown",
   "metadata": {},
   "source": [
    "## Variant centered effect prediction\n",
    "Models that uses `kipoiseq.dataloaders.SeqIntervalDl` as a default dataloader can make use of variant-centered effect prediction. This procedure starts out from the query VCF and generates genomic regions of the length of the model input, centered on the individual variant in the VCF which are then mutated according to the alleles in the VCF. The model batch prediction function is then triggered for all mutated sequence sets and finally the scoring method is applied.\n",
    "\n",
    "The selected scoring methods compare model predicitons for sequences carrying the reference or alternative allele. Those scoring methods can be `Diff` for simple subtraction of prediction, `Logit` for substraction of logit-transformed model predictions, or `DeepSEA_effect` which is a combination of `Diff` and `Logit`, which was published in the Troyanskaya et al. (2015) publication.\n",
    "\n",
    "This ipython notebook assumes that it is executed in an environment in which kipoi-veff2 is installed. For more information check https://github.com/kipoi/kipoi-veff2#install-the-conda-environment"
   ]
  },
  {
   "cell_type": "code",
   "execution_count": 9,
   "metadata": {},
   "outputs": [
    {
     "output_type": "stream",
     "name": "stdout",
     "text": [
      "Using downloaded and verified file: /Users/b260/.kipoi/models/DeepSEA/variantEffects/downloaded/model_files/weights/35956ab9c28960b5a3693f470fe980c1\n"
     ]
    }
   ],
   "source": [
    "from kipoi_veff2 import variant_centered\n",
    "\n",
    "vcf_file = \"example_data/clinvar_donor_acceptor_chr22.vcf\"\n",
    "fasta_file = \"example_data/hg19_chr22.fa\"\n",
    "output_file = \"output.tsv\"\n",
    "model_name = \"DeepSEA/variantEffects\"\n",
    "\n",
    "model_group = model_name.split(\"/\")[0]\n",
    "model_group_config_dict = (\n",
    "    variant_centered.VARIANT_CENTERED_MODEL_GROUP_CONFIGS.get(\n",
    "        model_group, {}\n",
    "    )\n",
    ")\n",
    "\n",
    "model_config = variant_centered.get_model_config(\n",
    "    model_name, **model_group_config_dict\n",
    ")\n",
    "\n",
    "variant_centered.score_variants(\n",
    "    model_config=model_config,\n",
    "    vcf_file=vcf_file,\n",
    "    fasta_file=fasta_file,\n",
    "    output_file=output_file,\n",
    ")\n"
   ]
  },
  {
   "source": [
    "Lets have a look at the output annotated tsv:"
   ],
   "cell_type": "markdown",
   "metadata": {}
  },
  {
   "cell_type": "code",
   "execution_count": 12,
   "metadata": {
    "tags": []
   },
   "outputs": [
    {
     "output_type": "stream",
     "name": "stdout",
     "text": [
      "  #CHROM       POS   ID REF ALT  DeepSEA/variantEffects/8988T_DNase_None/diff  \\\n0  chr22  41320486    4   G   T                                     -0.001468   \n1  chr22  31009031    9   T   G                                     -0.038191   \n2  chr22  43024150   15   C   G                                      0.013784   \n3  chr22  43027392   16   A   G                                     -0.060475   \n4  chr22  37469571  122   C   T                                     -0.015216   \n\n   DeepSEA/variantEffects/AoSMC_DNase_None/diff  \\\n0                                      0.001205   \n1                                     -0.019323   \n2                                      0.001041   \n3                                     -0.186859   \n4                                      0.012377   \n\n   DeepSEA/variantEffects/Chorion_DNase_None/diff  \\\n0                                       -0.001497   \n1                                       -0.009417   \n2                                        0.007227   \n3                                       -0.087627   \n4                                       -0.003255   \n\n   DeepSEA/variantEffects/CLL_DNase_None/diff  \\\n0                                   -0.000233   \n1                                   -0.019266   \n2                                    0.000264   \n3                                   -0.007143   \n4                                   -0.006013   \n\n   DeepSEA/variantEffects/Fibrobl_DNase_None/diff  \n0                                        0.001492  \n1                                       -0.026329  \n2                                        0.005147  \n3                                       -0.088509  \n4                                        0.005796  \n"
     ]
    }
   ],
   "source": [
    "import pandas as pd\n",
    "\n",
    "output_dataframe = pd.read_csv(\"output.tsv\", sep='\\t')\n",
    "print(output_dataframe.iloc[: 5, : 10])"
   ]
  },
  {
   "source": [
    "For more information and examples please check https://github.com/kipoi/kipoi-veff2"
   ],
   "cell_type": "markdown",
   "metadata": {}
  }
 ],
 "metadata": {
  "kernelspec": {
   "name": "kipoi-veff2",
   "display_name": "kipoi-veff2",
   "language": "python"
  },
  "language_info": {
   "codemirror_mode": {
    "name": "ipython",
    "version": 3
   },
   "file_extension": ".py",
   "mimetype": "text/x-python",
   "name": "python",
   "nbconvert_exporter": "python",
   "pygments_lexer": "ipython3",
   "version": "3.6.13-final"
  }
 },
 "nbformat": 4,
 "nbformat_minor": 2
}